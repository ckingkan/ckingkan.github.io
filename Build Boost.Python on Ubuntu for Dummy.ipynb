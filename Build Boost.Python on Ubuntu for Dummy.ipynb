{
 "cells": [
  {
   "cell_type": "markdown",
   "metadata": {},
   "source": [
    "* Created by Cherdsak Kingkan\n",
    "* Tested on Ubuntu 16.04\n",
    "* Boost version 1.58.0\n",
    "\n",
    "\n",
    "In this tutorial, I will walk you through \n",
    "1. \"How to Build Boost.Python\" and \n",
    "2. \"How to create Python Extensions\" using Boost.Python\n",
    "\n",
    "\"The Boost Python Library is a framework for interfacing Python and C++. It allows you to quickly and seamlessly expose C++ classes functions and objects to Python, and vice-versa\""
   ]
  },
  {
   "cell_type": "markdown",
   "metadata": {},
   "source": [
    "Step 1: \n",
    "    The following materials are needed for exposing c++ functions to Python:\n",
    "    1. Boost\n",
    "    2. Boost.Python\n",
    "    \n",
    "    In order to be able to use Boost Python, we need to install boost library. However, boost is automatically installed on linux. If it is not, you can install by execute the following commands\n",
    "\n",
    "    $sudo apt-get install libboost-all-dev\n",
    "\n",
    "    $sudo apt-get install python-dev python3-dev\n"
   ]
  },
  {
   "cell_type": "markdown",
   "metadata": {},
   "source": [
    "Step 2:\n",
    "\n",
    "    Get Boost(choose whichever version you prefer, here I choose boost 1.58.0)\n",
    "    \n",
    "     https://sourceforge.net/projects/boost/files/\n",
    "     \n",
    "            \n",
    "    After you downloaded, extract to your home directory\n",
    "    \n",
    "    $tar -xzvf /path/to/boost_1_58_0.tar.bz2 -C /path/to/home"
   ]
  },
  {
   "cell_type": "markdown",
   "metadata": {},
   "source": [
    "This is what you have in boost directoy\n",
    "    <img src=pic_1.png>"
   ]
  },
  {
   "cell_type": "markdown",
   "metadata": {},
   "source": [
    "Step 3:\n",
    "\n",
    "    Now you have to build Boost.Python library from the source code. \n",
    "    First thing you have to do is to config the \"user-config.jam\" file. This file tells Boost.Build how to invoke \n",
    "    Python. If you do not have this file in your home directory, you can get a copy in boost directory\n",
    "    \n",
    "    ~/boost_1_58_0/tools/build/example  >>>  copy to >>>> /home/\n",
    "    \n",
    "    Then open user-config.jam file in any of your favorite editor and go to the end of the file. You will see\n",
    "    \n",
    "    # Configure specific Python version.\n",
    "    # using python : 2.7 : /usr/bin/python2 : /usr/include/python2.7m : /usr/lib ;\n",
    "    \n",
    "    If you wish to python extensions with python2.x, you just leave it as it is. \n",
    "    But if you wish to use with other version, do the following\n",
    "    \n",
    "    # Configure specific Python version.\n",
    "    using python : 3.5 : /usr/bin/python3 : /usr/include/python3.5m : /usr/lib ;\n",
    "                    \n",
    "    In above example, I am using Python 3.5\n",
    "    \n",
    "    \n",
    "    Also, if you wish to change other option such as gcc version, you can do so within this file."
   ]
  },
  {
   "cell_type": "markdown",
   "metadata": {},
   "source": [
    "Step 4:\n",
    "    \n",
    "    Now, we can build Boost.Python library.\n",
    "    Open a terminal\n",
    "    \n",
    "    $cd ~/boost_1_58_0\n",
    "    \n",
    "    Now Configure your build options\n",
    "    \n",
    "    To see configuration options\n",
    "    \n",
    "    $./bootstrap.sh --help\n",
    "    \n",
    "    To confige build option WITH PYTHON3.x\n",
    "        \n",
    "    $./bootstrap --with-python=/usr/bin/python3 --with-python-version=3.5 --with-python-root=/usr/lib/python3.4 --with-libraries=python\n",
    "    \n",
    "    Note that --with-libraries=python tells Boost.Build that we only want to build Boost.Python library.\n",
    "    However, if you want to build every libraries, do not specify this option.\n",
    "    \n",
    "    If everything is going well, you will get the following\n",
    "    \n",
    "    Building Boost.Build engine with toolset gcc... tools/build/src/engine/bin.linuxx86/b2\n",
    "    Unicode/ICU support for Boost.Regex?... /usr\n",
    "    Backing up existing Boost.Build configuration in project-config.jam.3\n",
    "    Generating Boost.Build configuration in project-config.jam...\n",
    "\n",
    "    Bootstrapping is done. To build, run:\n",
    "\n",
    "    ./b2\n",
    "    \n",
    "    To adjust configuration, edit 'project-config.jam'.\n",
    "    Further information:\n",
    "\n",
    "   - Command line help:\n",
    "     ./b2 --help\n",
    "     \n",
    "   - Getting started guide: \n",
    "     http://www.boost.org/more/getting_started/unix-variants.html\n",
    "     \n",
    "   - Boost.Build documentation:\n",
    "     http://www.boost.org/boost-build2/doc/html/index.html\n",
    " "
   ]
  },
  {
   "cell_type": "markdown",
   "metadata": {},
   "source": [
    "Step 4:\n",
    "\n",
    "    So, It's time to build run:\n",
    "    \n",
    "    $./b2\n",
    "    \n",
    "   If everything goes well, you are done with building Boost.Python.\n",
    "   \n",
    "   However, some of you might get errors. For example, gcc cannot find some python header files, \n",
    "   such as pyconfig.h etc.This is because those files are not in your compiler' search path. \n",
    "   To solve this problem,\n",
    "   \n",
    "   $ export CPLUS_INCLUDE_PATH=/usr/include/python3.5m\n",
    "   \n",
    "   Then rebuild:\n",
    "   \n",
    "   $./b2\n",
    "   \n",
    "   \n",
    "   If everything is OK, you should get the following messages at the end of building time:\n",
    "   \n",
    "   <img src=pic_2.png>\n",
    "\n"
   ]
  },
  {
   "cell_type": "markdown",
   "metadata": {},
   "source": [
    "Now it's time to create python extensions\n",
    "\n",
    "Step 1: Create a folder anywhere you like:\n",
    "    \n",
    "    $mkdir /path/to/python/extension/dir\n",
    "    \n",
    "    $cd  /path/to/python/extension/dir\n",
    "    \n",
    "    To simplify the tutorial, I will use files from boost tutorial as an example.\n",
    "    So, copy files which is locate at \"~/boost_1_58_0/libs/python/example/tutorial\"\n",
    "    There will be 3 files:\n",
    "    \n",
    "    1. hello.cpp\n",
    "    2. hello.py\n",
    "    3. Jamroot\n",
    "    "
   ]
  },
  {
   "cell_type": "markdown",
   "metadata": {},
   "source": [
    "Step 2: Open \"Jamroot\" file\n",
    "\n",
    "    Find the following:\n",
    "    \n",
    "    use-project boost\n",
    "      : ../../../.. ;\n",
    "      \n",
    "    \n",
    "    and change ../../..  to your Boost root directory, which is /home/your_accout/boost_1_58_0\n",
    "    After changing, it should look something like this:\n",
    "    \n",
    "    use-project boost\n",
    "      : /home/cherdsak/boost_1_58_0 ;\n",
    "        "
   ]
  },
  {
   "cell_type": "markdown",
   "metadata": {},
   "source": [
    "Step 3: Now it's time to build python extension. Run :\n",
    "\n",
    "    $bjam\n",
    "    \n",
    "    Finally, you should have thefollowing files and folder.\n",
    "<img src=pic_3.png>\n",
    "    \n",
    "    "
   ]
  },
  {
   "cell_type": "markdown",
   "metadata": {},
   "source": [
    "Step 4: Let's test your python extension (C++ wrapper)\n",
    "    <img src=pic_4.png>\n",
    "    "
   ]
  },
  {
   "cell_type": "markdown",
   "metadata": {},
   "source": [
    "Useful Links:\n",
    "\n",
    "    http://www.boost.org/doc/libs/1_58_0/more/getting_started/unix-variants.html\n",
    "    http://www.boost.org/doc/libs/1_62_0/libs/python/doc/html/tutorial/tutorial/hello.html\n",
    "    http://www.boost.org/doc/libs/1_58_0/libs/python/doc/building.html\n",
    "    https://gist.github.com/melvincabatuan/a5a4a10b15ef31a5a481\n",
    "    https://github.com/belltailjp/selective_search_py/issues/6\n",
    "    http://stackoverflow.com/questions/19810940/ubuntu-linking-boost-python-fatal-error-pyconfig-cannot-be-found"
   ]
  },
  {
   "cell_type": "code",
   "execution_count": null,
   "metadata": {
    "collapsed": true
   },
   "outputs": [],
   "source": []
  }
 ],
 "metadata": {
  "kernelspec": {
   "display_name": "Python 3",
   "language": "python",
   "name": "python3"
  },
  "language_info": {
   "codemirror_mode": {
    "name": "ipython",
    "version": 3
   },
   "file_extension": ".py",
   "mimetype": "text/x-python",
   "name": "python",
   "nbconvert_exporter": "python",
   "pygments_lexer": "ipython3",
   "version": "3.5.2"
  }
 },
 "nbformat": 4,
 "nbformat_minor": 1
}
